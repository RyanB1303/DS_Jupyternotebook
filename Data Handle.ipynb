{
 "cells": [
  {
   "cell_type": "markdown",
   "metadata": {},
   "source": [
    "# Open and Read File"
   ]
  },
  {
   "cell_type": "code",
   "execution_count": 4,
   "metadata": {},
   "outputs": [
    {
     "name": "stdout",
     "output_type": "stream",
     "text": [
      "['Hello\\n', 'This is our Text File\\n', 'Read this line by line\\n', 'ip=5;id=3;il=20;\\n', 'ip=52;id=32;il=30;\\n', 'ip=51;id=43;il=60;\\n', 'ip=55;id=13;il=70;\\n', 'ip=57;id=32;il=20;\\n', 'ip=58;id=37;il=10;\\n', 'ip=59;id=5;il=100;']\n"
     ]
    }
   ],
   "source": [
    "# openning file.txt\n",
    "with open(file = 'file.txt', mode = 'r') as f:\n",
    "    text = f.readlines()\n",
    "print(text)"
   ]
  },
  {
   "cell_type": "markdown",
   "metadata": {},
   "source": [
    "# JSON Data"
   ]
  },
  {
   "cell_type": "code",
   "execution_count": 14,
   "metadata": {},
   "outputs": [
    {
     "name": "stdout",
     "output_type": "stream",
     "text": [
      "{'books': 12, 'articles': 30, 'subjects': ['math', 'computer_science', 'programming']}\n"
     ]
    }
   ],
   "source": [
    "my_data = {\n",
    "    'books': 12,\n",
    "    'articles': 30,\n",
    "    'subjects': [\n",
    "        'math',\n",
    "        'computer_science',\n",
    "        'programming'\n",
    "    ]\n",
    "}\n",
    "print(my_data)"
   ]
  },
  {
   "cell_type": "code",
   "execution_count": 16,
   "metadata": {},
   "outputs": [
    {
     "name": "stdout",
     "output_type": "stream",
     "text": [
      "{\"books\": 12, \"articles\": 30, \"subjects\": [\"math\", \"computer_science\", \"programming\"]}\n",
      "\n",
      "dictionary style :\n",
      "{'books': 12, 'articles': 30, 'subjects': ['math', 'computer_science', 'programming']}\n",
      "\n",
      "type of json_string : <class 'str'>\n",
      "type of data_dict : <class 'dict'>\n"
     ]
    }
   ],
   "source": [
    "# act the data above is some api , we need to import the json\n",
    "import json as js\n",
    "\n",
    "json_string = js.dumps(my_data)\n",
    "print(json_string)\n",
    "\n",
    "data_dict = js.loads(json_string)\n",
    "print(f'\\ndictionary style :')\n",
    "print(data_dict)\n",
    "print(f'\\ntype of json_string : {type(json_string)}')\n",
    "print(f'type of data_dict : {type(data_dict)}')\n",
    "\n",
    "# we can convert string back to dictionary again with the json.loads"
   ]
  },
  {
   "cell_type": "markdown",
   "metadata": {},
   "source": [
    "# Credentials Data as .py"
   ]
  },
  {
   "cell_type": "code",
   "execution_count": 21,
   "metadata": {},
   "outputs": [
    {
     "name": "stdout",
     "output_type": "stream",
     "text": [
      "username : ry,\n",
      "password : somethinglongandcomplicated\n"
     ]
    }
   ],
   "source": [
    "import credentials as creds\n",
    "print(f'username : {creds.username},\\npassword : {creds.password}')"
   ]
  },
  {
   "cell_type": "markdown",
   "metadata": {},
   "source": [
    "# Save Python Object Using Pickle"
   ]
  },
  {
   "cell_type": "code",
   "execution_count": 23,
   "metadata": {},
   "outputs": [],
   "source": [
    "import pickle as pk\n",
    "data_dict = {\n",
    "    'books': 12,\n",
    "    'articles': 30,\n",
    "    'subjects': [\n",
    "        'math',\n",
    "        'computer_science',\n",
    "        'programming'\n",
    "    ]\n",
    "}\n",
    "\n",
    "with open('readings.pk', 'wb') as f:\n",
    "    pk.dump(data_dict, f)"
   ]
  },
  {
   "cell_type": "code",
   "execution_count": 25,
   "metadata": {},
   "outputs": [
    {
     "name": "stdout",
     "output_type": "stream",
     "text": [
      "{'books': 12, 'articles': 30, 'subjects': ['math', 'computer_science', 'programming']}\n"
     ]
    }
   ],
   "source": [
    "# Openning the pk file\n",
    "with open('readings.pk', 'rb') as f:\n",
    "    data = pk.load(f)\n",
    "print(data)"
   ]
  },
  {
   "cell_type": "markdown",
   "metadata": {},
   "source": [
    "# SQL - SQLite3"
   ]
  },
  {
   "cell_type": "code",
   "execution_count": 9,
   "metadata": {},
   "outputs": [
    {
     "name": "stdout",
     "output_type": "stream",
     "text": [
      "[(1, 'AC/DC'), (2, 'Accept'), (3, 'Aerosmith'), (4, 'Alanis Morissette'), (5, 'Alice In Chains')]\n"
     ]
    },
    {
     "data": {
      "text/plain": [
       "[(8.91, 'Canada'),\n",
       " (8.91, 'Canada'),\n",
       " (0.99, 'Canada'),\n",
       " (1.98, 'Canada'),\n",
       " (13.86, 'Canada')]"
      ]
     },
     "execution_count": 9,
     "metadata": {},
     "output_type": "execute_result"
    }
   ],
   "source": [
    "# import sqlite3\n",
    "import sqlite3\n",
    "\n",
    "#set connection\n",
    "connection = sqlite3.connect('../chinook.db')\n",
    "cursor = connection.cursor()\n",
    "\n",
    "artist = cursor.execute('SELECT * FROM artists LIMIT 5;').fetchall()\n",
    "\n",
    "print(artist)\n",
    "\n",
    "cursor.execute(\"\"\"\n",
    "    SELECT Total, BillingCountry\n",
    "    FROM invoices\n",
    "    WHERE BillingCountry == \"Canada\"\n",
    "    LIMIT 5;\n",
    "\"\"\")\n",
    "cursor.fetchall()"
   ]
  },
  {
   "cell_type": "markdown",
   "metadata": {},
   "source": [
    "# Create SQLite3 Database"
   ]
  },
  {
   "cell_type": "code",
   "execution_count": 128,
   "metadata": {},
   "outputs": [
    {
     "data": {
      "text/plain": [
       "[('book_sales',)]"
      ]
     },
     "execution_count": 128,
     "metadata": {},
     "output_type": "execute_result"
    }
   ],
   "source": [
    "book_data = [\n",
    "('12-1-2020', 'Practical Data Science With Python', 19.99, 1),\n",
    "('12-15-2020', 'Python Machine Learning', 27.99, 1),\n",
    "('12-17-2020', 'Machine Learning For Algorithmic Trading', 34.99, 1)\n",
    "]\n",
    "\n",
    "connection = sqlite3.connect('book_sales.db')\n",
    "cursor = connection.cursor()\n",
    "\n",
    "# create db\n",
    "cursor.execute('''CREATE TABLE IF NOT EXISTS book_sales\n",
    "             (date text, book_title text, price real, quantity real)''')\n",
    "\n",
    "# the table is now there\n",
    "cursor.execute(\"SELECT name FROM sqlite_master WHERE type='table';\")\n",
    "cursor.fetchall()\n"
   ]
  },
  {
   "cell_type": "code",
   "execution_count": 129,
   "metadata": {},
   "outputs": [
    {
     "data": {
      "text/plain": [
       "[('12-1-2020', 'Practical Data Science With Python', 19.99, 1.0)]"
      ]
     },
     "execution_count": 129,
     "metadata": {},
     "output_type": "execute_result"
    }
   ],
   "source": [
    "# insert data\n",
    "cursor.execute(\"INSERT INTO book_sales VALUES (?, ?, ?, ?)\", book_data[0])\n",
    "\n",
    "cursor.execute(\"SELECT * from book_sales;\").fetchall()"
   ]
  },
  {
   "cell_type": "code",
   "execution_count": 130,
   "metadata": {},
   "outputs": [
    {
     "data": {
      "text/plain": [
       "[('12-1-2020', 'Practical Data Science With Python', 19.99, 1.0),\n",
       " ('12-15-2020', 'Python Machine Learning', 27.99, 1.0),\n",
       " ('12-17-2020', 'Machine Learning For Algorithmic Trading', 34.99, 1.0)]"
      ]
     },
     "execution_count": 130,
     "metadata": {},
     "output_type": "execute_result"
    }
   ],
   "source": [
    "# insert many data\n",
    "cursor.executemany('INSERT INTO book_sales VALUES (?, ?, ?, ?)', book_data[1:])\n",
    "cursor.execute(\"SELECT * from book_sales;\").fetchall()"
   ]
  },
  {
   "cell_type": "code",
   "execution_count": 131,
   "metadata": {},
   "outputs": [],
   "source": [
    "# commit the transaction or it never happen\n",
    "connection.commit()\n",
    "\n",
    "# finally close it\n",
    "connection.close()"
   ]
  },
  {
   "cell_type": "markdown",
   "metadata": {},
   "source": [
    "# SQLAlchemy"
   ]
  },
  {
   "cell_type": "markdown",
   "metadata": {},
   "source": [
    "SQLAlchemy is a python package for interacting with Database using Object-thing just like Laravel Eloquents or Rails ActiveStorage"
   ]
  },
  {
   "cell_type": "code",
   "execution_count": 132,
   "metadata": {},
   "outputs": [],
   "source": [
    "from sqlalchemy import create_engine\n",
    "engine = create_engine('sqlite:///book_sales.db')\n",
    "conn = engine.connect()"
   ]
  },
  {
   "cell_type": "code",
   "execution_count": 133,
   "metadata": {},
   "outputs": [
    {
     "data": {
      "text/plain": [
       "[('book_sales',)]"
      ]
     },
     "execution_count": 133,
     "metadata": {},
     "output_type": "execute_result"
    }
   ],
   "source": [
    "results = conn.execute(\"SELECT name FROM sqlite_master WHERE type='table';\")\n",
    "results.fetchall()"
   ]
  },
  {
   "cell_type": "code",
   "execution_count": 134,
   "metadata": {},
   "outputs": [
    {
     "data": {
      "text/plain": [
       "[('Practical Data Science With Python',),\n",
       " ('Python Machine Learning',),\n",
       " ('Machine Learning For Algorithmic Trading',)]"
      ]
     },
     "execution_count": 134,
     "metadata": {},
     "output_type": "execute_result"
    }
   ],
   "source": [
    "book_sale = conn.execute(\"SELECT book_title FROM book_sales;\")\n",
    "book_sale.fetchall()"
   ]
  },
  {
   "cell_type": "code",
   "execution_count": 135,
   "metadata": {},
   "outputs": [],
   "source": [
    "# close the connection\n",
    "conn.close()"
   ]
  },
  {
   "cell_type": "markdown",
   "metadata": {},
   "source": [
    "## SQLAlchemy in with "
   ]
  },
  {
   "cell_type": "code",
   "execution_count": 137,
   "metadata": {},
   "outputs": [
    {
     "name": "stdout",
     "output_type": "stream",
     "text": [
      "('12-1-2020', 'Practical Data Science With Python', 19.99, 1.0)\n",
      "('12-15-2020', 'Python Machine Learning', 27.99, 1.0)\n",
      "('12-17-2020', 'Machine Learning For Algorithmic Trading', 34.99, 1.0)\n"
     ]
    }
   ],
   "source": [
    "with engine.connect() as conn:\n",
    "    res = conn.execute(\"SELECT * FROM book_sales\")\n",
    "    for row in res:\n",
    "        print(row)"
   ]
  },
  {
   "cell_type": "code",
   "execution_count": null,
   "metadata": {},
   "outputs": [],
   "source": []
  }
 ],
 "metadata": {
  "kernelspec": {
   "display_name": "Python 3",
   "language": "python",
   "name": "python3"
  },
  "language_info": {
   "codemirror_mode": {
    "name": "ipython",
    "version": 3
   },
   "file_extension": ".py",
   "mimetype": "text/x-python",
   "name": "python",
   "nbconvert_exporter": "python",
   "pygments_lexer": "ipython3",
   "version": "3.8.5"
  }
 },
 "nbformat": 4,
 "nbformat_minor": 4
}
