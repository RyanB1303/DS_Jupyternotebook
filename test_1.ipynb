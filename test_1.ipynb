{
 "cells": [
  {
   "cell_type": "code",
   "execution_count": 6,
   "metadata": {},
   "outputs": [],
   "source": [
    "import math"
   ]
  },
  {
   "cell_type": "code",
   "execution_count": 7,
   "metadata": {},
   "outputs": [
    {
     "data": {
      "text/plain": [
       "3.141592653589793"
      ]
     },
     "execution_count": 7,
     "metadata": {},
     "output_type": "execute_result"
    }
   ],
   "source": [
    "math.pi"
   ]
  },
  {
   "cell_type": "markdown",
   "metadata": {
    "heading_collapsed": true
   },
   "source": [
    "# Strings"
   ]
  },
  {
   "cell_type": "code",
   "execution_count": 13,
   "metadata": {
    "hidden": true
   },
   "outputs": [
    {
     "name": "stdout",
     "output_type": "stream",
     "text": [
      "Hello, Johnny. \n",
      "Hello, Johnny. \n",
      "\n"
     ]
    }
   ],
   "source": [
    "my_string = \"Hello, Johnny. \\n\"\n",
    "\n",
    "# string can be multiplied in python\n",
    "\n",
    "print(my_string * 2)"
   ]
  },
  {
   "cell_type": "code",
   "execution_count": 15,
   "metadata": {
    "hidden": true
   },
   "outputs": [
    {
     "name": "stdout",
     "output_type": "stream",
     "text": [
      "Hello, Johnny. \n",
      " i'm concat.\n"
     ]
    }
   ],
   "source": [
    "# use + to concat string\n",
    "print( my_string + \" i'm concat.\"  )"
   ]
  },
  {
   "cell_type": "code",
   "execution_count": 24,
   "metadata": {
    "hidden": true
   },
   "outputs": [
    {
     "name": "stdout",
     "output_type": "stream",
     "text": [
      "H\n",
      "Hello\n",
      "Hlo ony \n",
      "\n",
      " .ynnhoJ ,olleH\n"
     ]
    }
   ],
   "source": [
    "# string are array\n",
    "print(my_string[0])\n",
    "# should be H\n",
    "\n",
    "# subsetting [start:stop]\n",
    "print(my_string[0:5])\n",
    "# should be Hello\n",
    "\n",
    "# step string\n",
    "print(my_string[::2])\n",
    "#should be Hlo ohn\n",
    "\n",
    "# reverse string\n",
    "print(my_string[::-1])"
   ]
  },
  {
   "cell_type": "code",
   "execution_count": 31,
   "metadata": {
    "hidden": true
   },
   "outputs": [
    {
     "name": "stdout",
     "output_type": "stream",
     "text": [
      "this-is-a-test\n",
      "['this', 'is', 'a', 'test']\n"
     ]
    }
   ],
   "source": [
    "# string join\n",
    "joined = '-'.join(['this','is','a','test'])\n",
    "print(joined)\n",
    "\n",
    "# string split, default splitted by space ' ' \n",
    "# in example we use '-' which is joined them before\n",
    "print(joined.split('-'))"
   ]
  },
  {
   "cell_type": "code",
   "execution_count": 35,
   "metadata": {
    "hidden": true
   },
   "outputs": [
    {
     "name": "stdout",
     "output_type": "stream",
     "text": [
      "hasil hitungan 12\n",
      "hasil hitungan pakai double quote 12\n"
     ]
    }
   ],
   "source": [
    "# string formatting\n",
    "hitung = 2 + 2 * 5\n",
    "print(f'hasil hitungan {hitung}')\n",
    "print(f\"hasil hitungan pakai double quote {hitung}\")"
   ]
  },
  {
   "cell_type": "code",
   "execution_count": 43,
   "metadata": {
    "hidden": true
   },
   "outputs": [
    {
     "name": "stdout",
     "output_type": "stream",
     "text": [
      "<class 'NoneType'>\n",
      "none is falsy\n"
     ]
    }
   ],
   "source": [
    "# null nill empty is none in python\n",
    "my_nil = None\n",
    "print(type(my_nil))\n",
    "if not my_nil:\n",
    "    print(\"none is falsy\")\n",
    "else:\n",
    "    print(\"none is truthy\")"
   ]
  },
  {
   "cell_type": "markdown",
   "metadata": {
    "heading_collapsed": true
   },
   "source": [
    "# Data Structure"
   ]
  },
  {
   "cell_type": "markdown",
   "metadata": {
    "heading_collapsed": true,
    "hidden": true
   },
   "source": [
    "## Lists"
   ]
  },
  {
   "cell_type": "code",
   "execution_count": 65,
   "metadata": {
    "hidden": true
   },
   "outputs": [
    {
     "name": "stdout",
     "output_type": "stream",
     "text": [
      "[1, 2, 3, 4]\n",
      "[1, 2, 3, 4, 5, 6, 7, 8]\n",
      "4\n",
      "[1, 2, 3, 4, 100]\n",
      "\n",
      "\n",
      "unsorted [99, 2, 6, 1, 19, 12]\n",
      "sorted [1, 2, 6, 12, 19, 99] \n",
      "\n",
      "unsorted [200, 5, 900, 800, 1000]\n",
      "sorted [5, 200, 800, 900, 1000]\n",
      "reverse sorted [1000, 900, 800, 200, 5] \n",
      "\n"
     ]
    }
   ],
   "source": [
    "# list is just an array, but in python\n",
    "my_list = [1,2,3,4]\n",
    "print(my_list)\n",
    "\n",
    "# list concat\n",
    "my_second_list = [5,6,7,8]\n",
    "print(my_list + my_second_list)\n",
    "\n",
    "# length of list\n",
    "my_list_length = len(my_list)\n",
    "print(my_list_length)\n",
    "\n",
    "# append\n",
    "my_list.append(100)\n",
    "print(my_list)\n",
    "\n",
    "# sort\n",
    "print(\"\\n\")\n",
    "my_random_list = [99, 2, 6, 1, 19, 12]\n",
    "print(f'unsorted {my_random_list}')\n",
    "my_random_list.sort()\n",
    "print(f'sorted {my_random_list} \\n')\n",
    "my_second_random = [200, 5, 900, 800, 1000]\n",
    "print(f'unsorted {my_second_random}')\n",
    "print(f'sorted {sorted(my_second_random)}')\n",
    "\n",
    "# reverse sort big to small\n",
    "my_second_random.sort(reverse=True)\n",
    "print(f'reverse sorted {my_second_random} \\n')"
   ]
  },
  {
   "cell_type": "markdown",
   "metadata": {
    "hidden": true
   },
   "source": [
    "**Important**.\n",
    "be careful with method and function, method sometime returns a None so it shouldn't be on variable"
   ]
  },
  {
   "cell_type": "code",
   "execution_count": 68,
   "metadata": {
    "hidden": true
   },
   "outputs": [
    {
     "name": "stdout",
     "output_type": "stream",
     "text": [
      "[1, 2, 6, 12, 19, 99]\n",
      "None\n"
     ]
    }
   ],
   "source": [
    "# sorted is a function, it return something\n",
    "sorted_as_variable = sorted(my_random_list)\n",
    "print(sorted_as_variable)\n",
    "\n",
    "# sort is a method from collection ( i think ) it not returning anything ( None )\n",
    "sort_as_variable = my_random_list.sort()\n",
    "print(sort_as_variable)"
   ]
  },
  {
   "cell_type": "code",
   "execution_count": 72,
   "metadata": {
    "hidden": true
   },
   "outputs": [
    {
     "name": "stdout",
     "output_type": "stream",
     "text": [
      "1000\n",
      "5\n",
      "[5, 200, 800, 900, 1000]\n"
     ]
    }
   ],
   "source": [
    "# list index\n",
    "print(my_second_random[0])\n",
    "print(my_second_random[-1])\n",
    "# reverse list with index\n",
    "print(my_second_random[::-1])\n",
    "# my_second_random is reverse sorted, therefore the list is back to default sorting"
   ]
  },
  {
   "cell_type": "markdown",
   "metadata": {
    "heading_collapsed": true,
    "hidden": true
   },
   "source": [
    "## Tuples"
   ]
  },
  {
   "cell_type": "code",
   "execution_count": 88,
   "metadata": {
    "hidden": true
   },
   "outputs": [
    {
     "name": "stdout",
     "output_type": "stream",
     "text": [
      "Tuples is a list but cannot changed\n",
      "(1, 2, 3)\n",
      "(55, 1, 23, 27)\n",
      "[1, 23, 27, 55]\n",
      "<class 'tuple'>\n",
      "<class 'tuple'>\n",
      "\n",
      "\n",
      "<class 'list'>\n",
      "[1, 23, 27, 55]\n"
     ]
    }
   ],
   "source": [
    "# the immutable list\n",
    "print('Tuples is a list but cannot changed')\n",
    "my_tuples = (1,2,3)\n",
    "print(my_tuples)\n",
    "my_crazy_tuples = (55,1,23,27)\n",
    "print(my_crazy_tuples)\n",
    "\n",
    "print(sorted_tuple)\n",
    "print(type(my_tuples))\n",
    "print(type(my_crazy_tuples))\n",
    "print('\\n')\n",
    "# sorted tuple became a list\n",
    "sorted_tuple = sorted(my_crazy_tuples)\n",
    "print(type(sorted_tuple))\n",
    "print(sorted_tuple)"
   ]
  },
  {
   "cell_type": "markdown",
   "metadata": {
    "heading_collapsed": true,
    "hidden": true
   },
   "source": [
    "## Sets"
   ]
  },
  {
   "cell_type": "markdown",
   "metadata": {
    "hidden": true
   },
   "source": [
    "    a collection / group of unique value"
   ]
  },
  {
   "cell_type": "code",
   "execution_count": 93,
   "metadata": {
    "hidden": true
   },
   "outputs": [
    {
     "name": "stdout",
     "output_type": "stream",
     "text": [
      "{1, 2, 3}\n",
      "{2, 5, 7}\n",
      "\n",
      "union mean it join two sets but remove the duplicate\n",
      "{1, 2, 3, 5, 7}\n"
     ]
    }
   ],
   "source": [
    "my_sets = {1,2,3}\n",
    "print(my_sets)\n",
    "my_sets_2 = {2,5,7}\n",
    "print(my_sets_2)\n",
    "print('\\nunion mean it join two sets but remove the duplicate')\n",
    "union_sets = my_sets.union(my_sets_2)\n",
    "# should remove 2 from sets 2\n",
    "print(union_sets)"
   ]
  },
  {
   "cell_type": "markdown",
   "metadata": {
    "hidden": true
   },
   "source": [
    "Sets find uses in natural language processing, examining unique\n",
    "values present in datasets, and more."
   ]
  },
  {
   "cell_type": "markdown",
   "metadata": {
    "heading_collapsed": true,
    "hidden": true
   },
   "source": [
    "## Dictionary"
   ]
  },
  {
   "cell_type": "markdown",
   "metadata": {
    "hidden": true
   },
   "source": [
    "A Key Value pair with unique key\n",
    "in plain english it's like javascript object or hash in ruby"
   ]
  },
  {
   "cell_type": "code",
   "execution_count": 98,
   "metadata": {
    "hidden": true
   },
   "outputs": [
    {
     "name": "stdout",
     "output_type": "stream",
     "text": [
      "{'name': 'Sabini', 'count': 5}\n",
      "Sabini\n",
      "{'name': 'Sabini', 'count': 5, 'legend': 'A'}\n"
     ]
    }
   ],
   "source": [
    "# dictionary\n",
    "my_dict = {'name': 'Sabini', 'count': 5}\n",
    "print(my_dict)\n",
    "# access value by key\n",
    "my_name_from_dict = my_dict['name']\n",
    "print(my_name_from_dict)\n",
    "# add another element\n",
    "my_dict['legend'] = 'A'\n",
    "print(my_dict)"
   ]
  },
  {
   "cell_type": "markdown",
   "metadata": {
    "heading_collapsed": true
   },
   "source": [
    "# Loops"
   ]
  },
  {
   "cell_type": "code",
   "execution_count": 104,
   "metadata": {
    "hidden": true
   },
   "outputs": [
    {
     "name": "stdout",
     "output_type": "stream",
     "text": [
      "0\n",
      "1\n",
      "2\n",
      "3\n",
      "4\n",
      "\n",
      " ----- \n",
      "\n",
      "1\n",
      "5\n",
      "199\n",
      "\n",
      "\n",
      "name : Sabini\n",
      "count : 5\n",
      "legend : A\n"
     ]
    }
   ],
   "source": [
    "# for loop with range\n",
    "for x in range(5):\n",
    "    print(x)\n",
    "    \n",
    "the_list = [1,5,199]\n",
    "print('\\n ----- \\n')\n",
    "for i in the_list:\n",
    "    print(i)\n",
    "print('\\n')    \n",
    "# dictionary loop\n",
    "for key,value in my_dict.items():\n",
    "    print(f'{key} : {value}')"
   ]
  },
  {
   "cell_type": "markdown",
   "metadata": {
    "heading_collapsed": true
   },
   "source": [
    "# Function"
   ]
  },
  {
   "cell_type": "code",
   "execution_count": 107,
   "metadata": {
    "hidden": true
   },
   "outputs": [
    {
     "name": "stdout",
     "output_type": "stream",
     "text": [
      "\n",
      "-------\n",
      "\n",
      "Hello, WORLD\n",
      "\n",
      "-------\n",
      "\n"
     ]
    }
   ],
   "source": [
    "def my_function(sayHello):\n",
    "    if sayHello:\n",
    "        print('\\n-------\\n')\n",
    "        print(sayHello)\n",
    "        print('\\n-------\\n')\n",
    "        \n",
    "my_function(\"Hello, WORLD\")"
   ]
  },
  {
   "cell_type": "markdown",
   "metadata": {
    "hidden": true
   },
   "source": [
    "## Lambda"
   ]
  },
  {
   "cell_type": "code",
   "execution_count": 110,
   "metadata": {
    "hidden": true
   },
   "outputs": [
    {
     "data": {
      "text/plain": [
       "150"
      ]
     },
     "execution_count": 110,
     "metadata": {},
     "output_type": "execute_result"
    }
   ],
   "source": [
    "my_lambda_times_10 = lambda x,y: (x + y) * 10\n",
    "my_lambda_times_10(10,5)"
   ]
  },
  {
   "cell_type": "markdown",
   "metadata": {
    "heading_collapsed": true
   },
   "source": [
    "# Classes"
   ]
  },
  {
   "cell_type": "code",
   "execution_count": 112,
   "metadata": {
    "hidden": true
   },
   "outputs": [
    {
     "name": "stdout",
     "output_type": "stream",
     "text": [
      "print_me method\n",
      "the attributes : Hello, i'm attributes\n"
     ]
    }
   ],
   "source": [
    "class myObjects:\n",
    "    def __init__(self, the_value=10):\n",
    "        self.the_attributes = the_value\n",
    "    \n",
    "    def print_me(self):\n",
    "        print('print_me method')\n",
    "        print(f'the attributes : {self.the_attributes}')\n",
    "\n",
    "mo = myObjects(\"Hello, i'm attributes\")\n",
    "mo.print_me()"
   ]
  },
  {
   "cell_type": "markdown",
   "metadata": {
    "heading_collapsed": true
   },
   "source": [
    "# Debugging"
   ]
  },
  {
   "cell_type": "code",
   "execution_count": null,
   "metadata": {
    "hidden": true
   },
   "outputs": [],
   "source": [
    "test_debug = 'a test string'\n",
    "a = 2\n",
    "b = 2\n",
    "import pdb; pdb.set_trace()\n",
    "c = a + b"
   ]
  },
  {
   "cell_type": "code",
   "execution_count": null,
   "metadata": {
    "hidden": true
   },
   "outputs": [],
   "source": []
  }
 ],
 "metadata": {
  "kernelspec": {
   "display_name": "Python 3",
   "language": "python",
   "name": "python3"
  },
  "language_info": {
   "codemirror_mode": {
    "name": "ipython",
    "version": 3
   },
   "file_extension": ".py",
   "mimetype": "text/x-python",
   "name": "python",
   "nbconvert_exporter": "python",
   "pygments_lexer": "ipython3",
   "version": "3.8.5"
  }
 },
 "nbformat": 4,
 "nbformat_minor": 4
}
